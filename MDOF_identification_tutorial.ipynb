{
 "cells": [
  {
   "cell_type": "markdown",
   "metadata": {},
   "source": [
    "# Identification of modal parametes using extended Morlet-Wave method  from MDOF system\n",
    "ver. 0.1"
   ]
  },
  {
   "cell_type": "code",
   "execution_count": 1,
   "metadata": {},
   "outputs": [],
   "source": [
    "import numpy as np\n",
    "import matplotlib.pyplot as plt\n",
    "from morlet_wave import *"
   ]
  },
  {
   "cell_type": "markdown",
   "metadata": {},
   "source": [
    "**Steps required by the user:**\n",
    "1. Load Impulse Response Functions as a numpy array of the shape: \\\n",
    "`x[(number_of_samples, measure_points)]`\n",
    "2. Define sampling frequency: \\\n",
    "eg. `fs = 1024` S/s\n",
    "3. Estimate natural frequencies: \\\n",
    "eg. `nat_freq_est = np.array([315, 860, 1667]) * 2*np.pi` \\\n",
    "unit of natural frequencies is [rad/s]. In case of noisy signals it is important to estimate natural frequency as accurate as it is possible."
   ]
  },
  {
   "cell_type": "code",
   "execution_count": 2,
   "metadata": {},
   "outputs": [],
   "source": [
    "# x = \n",
    "# fs = \n",
    "# nat_freq_est ="
   ]
  },
  {
   "cell_type": "markdown",
   "metadata": {},
   "source": [
    "**Set parameters of the method:**\n",
    "1. Set time spread parameters. One can set any two set parameters, but according to the author these three sets should be used:\n",
    "    * `tsprd = (5, 10)`\n",
    "    * `tsprd = (7, 14)` <- default\n",
    "    * `tsprd = (10, 20)`\n",
    "2. Set range of morlet-wave function cycles, default value:\n",
    "    * `ncycl = (30, 300)` <- default"
   ]
  },
  {
   "cell_type": "code",
   "execution_count": 3,
   "metadata": {},
   "outputs": [],
   "source": [
    "tsprd = (5, 10)\n",
    "ncycl = (30, 300)"
   ]
  },
  {
   "cell_type": "markdown",
   "metadata": {},
   "source": [
    "Defined container to store identified modal parameters:"
   ]
  },
  {
   "cell_type": "code",
   "execution_count": 4,
   "metadata": {},
   "outputs": [],
   "source": [
    "data = {\n",
    "    \"zeta\" : [],\n",
    "    \"omega\": [],\n",
    "    \"X\"    : []\n",
    "}"
   ]
  },
  {
   "cell_type": "markdown",
   "metadata": {},
   "source": [
    "Following cell does the identification. It iterates along all measurement spots and natural frquencies and stores data in container `data`.\\\n",
    "*Note:* in case of very noisy data, if identified natural frequencies varies significantly from estimated, then estimated natural frequencies can be used for identification, but calling method for frequency identification: ```detect_frequency(use_estimated=True)``` "
   ]
  },
  {
   "cell_type": "code",
   "execution_count": null,
   "metadata": {},
   "outputs": [],
   "source": [
    "measure_points = x.shape[1]\n",
    "nat_freq = nat_freq_est.size\n",
    "for i in range(measure_points):\n",
    "    zeta = []\n",
    "    omega = []\n",
    "    X = []\n",
    "    for j in range(nat_freq):\n",
    "        print(\"i, j: \", i, j)\n",
    "        if j == 0:\n",
    "            freq = (nat_freq_est[0], nat_freq_est[1])\n",
    "        elif j == nat_freq-1:\n",
    "            freq = (nat_freq_est[-1], nat_freq_est[-2])\n",
    "        elif np.abs(nat_freq_est[j]-nat_freq_est[j+1]) < np.abs(nat_freq_est[j]-nat_freq_est[j-1]):\n",
    "            freq = (nat_freq_est[j], nat_freq_est[j+1])\n",
    "        else:\n",
    "            freq = (nat_freq_est[j], nat_freq_est[j-1])\n",
    "            \n",
    "        sys = ExtendedMW(fs, x[i,], freq, tsprd, ncycl)\n",
    "        sys.detect_frequency()\n",
    "        sys.detect_damp()\n",
    "        sys.estimate(True)\n",
    "        sys.detect_amplitude(True)\n",
    "        \n",
    "        zeta.append(sys.zeta)\n",
    "        omega.append(sys.omega)\n",
    "        X.append(sys.X * np.exp(1j * sys.phi))\n",
    "        del sys\n",
    "    data[\"zeta\"].append(zeta)\n",
    "    data[\"omega\"].append(omega)\n",
    "    data[\"X\"].append(X)"
   ]
  },
  {
   "cell_type": "markdown",
   "metadata": {},
   "source": [
    "Calculate modeshapes from the identified amplitudes and phases."
   ]
  },
  {
   "cell_type": "code",
   "execution_count": null,
   "metadata": {},
   "outputs": [],
   "source": [
    "psi = np.sign(np.sin(np.angle(beam[\"X\"])))*np.abs(beam[\"X\"])\n",
    "print(psi)"
   ]
  },
  {
   "cell_type": "markdown",
   "metadata": {},
   "source": [
    "Plot the mode shapes:"
   ]
  },
  {
   "cell_type": "code",
   "execution_count": null,
   "metadata": {},
   "outputs": [],
   "source": [
    "m = np.linspace(1, measure_points, measure_points)\n",
    "for i in range(nat_freq):\n",
    "    y = np.zeros(measure_points)\n",
    "    m = np.linspace(1, measure_points, measure_points)\n",
    "    m[np.isnan(psi[:, i])] = np.nan\n",
    "    y[np.invert(np.isnan(psi[:, i]))] = psi[np.invert(np.isnan(psi[:, i])), i]\n",
    "    print(m, y)\n",
    "    plt.plot(m, y/np.max(np.abs(y)))\n",
    "plt.grid(True)\n",
    "plt.xticks(np.linspace(1, measure_points, measure_points));"
   ]
  }
 ],
 "metadata": {
  "kernelspec": {
   "display_name": "Python 3",
   "language": "python",
   "name": "python3"
  },
  "language_info": {
   "codemirror_mode": {
    "name": "ipython",
    "version": 3
   },
   "file_extension": ".py",
   "mimetype": "text/x-python",
   "name": "python",
   "nbconvert_exporter": "python",
   "pygments_lexer": "ipython3",
   "version": "3.7.3"
  }
 },
 "nbformat": 4,
 "nbformat_minor": 2
}
